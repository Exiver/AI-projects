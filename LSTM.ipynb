{
  "nbformat": 4,
  "nbformat_minor": 0,
  "metadata": {
    "colab": {
      "provenance": []
    },
    "kernelspec": {
      "name": "python3",
      "display_name": "Python 3"
    },
    "language_info": {
      "name": "python"
    }
  },
  "cells": [
    {
      "cell_type": "code",
      "execution_count": null,
      "metadata": {
        "id": "nJtgj_qQCvhN"
      },
      "outputs": [],
      "source": [
        "from tensorflow.keras.datasets import imdb\n",
        "from tensorflow.keras.preprocessing.sequence import pad_sequences\n",
        "from tensorflow.keras.models import Sequential\n",
        "from tensorflow.keras.layers import LSTM, Dense,Embedding"
      ]
    },
    {
      "cell_type": "code",
      "source": [
        "vocab_size= 5000\n",
        "(x_train, y_train), (x_test, y_test)= imdb.load_data(num_words=vocab_size)\n",
        "max_len= 200\n",
        "x_train= pad_sequences(x_train,maxlen=max_len)\n",
        "x_test= pad_sequences(x_test,maxlen=max_len)"
      ],
      "metadata": {
        "id": "-kFQhiUyGyBH"
      },
      "execution_count": null,
      "outputs": []
    },
    {
      "cell_type": "code",
      "source": [
        "embedding_size= 32\n",
        "model= Sequential()\n",
        "model.add(Embedding(input_dim=vocab_size, output_dim= embedding_size, input_length=max_len))\n",
        "model.add(LSTM(units=100))\n",
        "model.add(Dense(units=1, activation= \"sigmoid\"))"
      ],
      "metadata": {
        "id": "g4yBr7k7JNvJ"
      },
      "execution_count": null,
      "outputs": []
    },
    {
      "cell_type": "code",
      "source": [
        "model.compile(loss=\"binary_crossentropy\", optimizer=\"adam\", metrics=\"accuracy\")\n",
        "model.fit(x_train, y_train, batch_size=64, epochs=3, validation_data=(x_test, y_test))\n",
        "loss, accuracy= model.evaluate(x_test, y_test)\n",
        "model.predict(x_test, batch_size=64)\n",
        "print(accuracy*100,\"%\")"
      ],
      "metadata": {
        "colab": {
          "base_uri": "https://localhost:8080/"
        },
        "id": "lLqrObeCMaPg",
        "outputId": "0bdd5d8e-7ae9-4aa2-9f9b-231126879ef2"
      },
      "execution_count": null,
      "outputs": [
        {
          "output_type": "stream",
          "name": "stdout",
          "text": [
            "Epoch 1/3\n",
            "391/391 [==============================] - 158s 400ms/step - loss: 0.4595 - accuracy: 0.7705 - val_loss: 0.3207 - val_accuracy: 0.8658\n",
            "Epoch 2/3\n",
            "391/391 [==============================] - 193s 495ms/step - loss: 0.2808 - accuracy: 0.8893 - val_loss: 0.3146 - val_accuracy: 0.8674\n",
            "Epoch 3/3\n",
            "391/391 [==============================] - 198s 508ms/step - loss: 0.2406 - accuracy: 0.9064 - val_loss: 0.3178 - val_accuracy: 0.8684\n",
            "782/782 [==============================] - 38s 48ms/step - loss: 0.3178 - accuracy: 0.8684\n",
            "391/391 [==============================] - 45s 114ms/step\n",
            "86.83599829673767 %\n"
          ]
        }
      ]
    },
    {
      "cell_type": "code",
      "source": [
        "pred= model.predict(x_test)\n",
        "binary_pred= (model.predict(x_test)>.5).astype(\"int32\")\n",
        "for i in range(10):\n",
        "  print({i+1})\n",
        "  print(f\"(predicted:{binary_pred[i]})(postive:{ pred[i][0]:.4f})\")\n",
        "  print(\"actual\",y_test[i])"
      ],
      "metadata": {
        "colab": {
          "base_uri": "https://localhost:8080/"
        },
        "id": "rVA0am_NOh5s",
        "outputId": "ea3dc191-2a44-4851-b94c-87dd1637040d"
      },
      "execution_count": null,
      "outputs": [
        {
          "output_type": "stream",
          "name": "stdout",
          "text": [
            "782/782 [==============================] - 34s 44ms/step\n",
            "782/782 [==============================] - 35s 45ms/step\n",
            "{1}\n",
            "(predicted:[0])(postive:0.1731)\n",
            "actual 0\n",
            "{2}\n",
            "(predicted:[1])(postive:0.9690)\n",
            "actual 1\n",
            "{3}\n",
            "(predicted:[1])(postive:0.6937)\n",
            "actual 1\n",
            "{4}\n",
            "(predicted:[0])(postive:0.3898)\n",
            "actual 0\n",
            "{5}\n",
            "(predicted:[1])(postive:0.9977)\n",
            "actual 1\n",
            "{6}\n",
            "(predicted:[1])(postive:0.8774)\n",
            "actual 1\n",
            "{7}\n",
            "(predicted:[1])(postive:0.7718)\n",
            "actual 1\n",
            "{8}\n",
            "(predicted:[0])(postive:0.0282)\n",
            "actual 0\n",
            "{9}\n",
            "(predicted:[1])(postive:0.8823)\n",
            "actual 0\n",
            "{10}\n",
            "(predicted:[1])(postive:0.8926)\n",
            "actual 1\n"
          ]
        }
      ]
    },
    {
      "cell_type": "code",
      "source": [],
      "metadata": {
        "id": "UMX9fScdRtl-"
      },
      "execution_count": null,
      "outputs": []
    }
  ]
}